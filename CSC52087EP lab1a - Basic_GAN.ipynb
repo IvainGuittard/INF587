{
  "cells": [
    {
      "cell_type": "markdown",
      "metadata": {
        "id": "FE2yoRM3vfpP"
      },
      "source": [
        "# CSC52087EP lab1a by Vicky Kalogeiton\n",
        "# Ecole Polytechnique\n",
        "# Basic GAN Notebook"
      ]
    },
    {
      "cell_type": "code",
      "execution_count": 31,
      "metadata": {
        "id": "7cIRHe5qQgXG"
      },
      "outputs": [
        {
          "ename": "ImportError",
          "evalue": "DLL load failed while importing torch_directml_native: La procédure spécifiée est introuvable.",
          "output_type": "error",
          "traceback": [
            "\u001b[1;31m---------------------------------------------------------------------------\u001b[0m",
            "\u001b[1;31mImportError\u001b[0m                               Traceback (most recent call last)",
            "Cell \u001b[1;32mIn[31], line 10\u001b[0m\n\u001b[0;32m      8\u001b[0m \u001b[38;5;28;01mfrom\u001b[39;00m \u001b[38;5;21;01mtqdm\u001b[39;00m\u001b[38;5;21;01m.\u001b[39;00m\u001b[38;5;21;01mauto\u001b[39;00m \u001b[38;5;28;01mimport\u001b[39;00m tqdm\n\u001b[0;32m      9\u001b[0m \u001b[38;5;28;01mimport\u001b[39;00m \u001b[38;5;21;01mmatplotlib\u001b[39;00m\u001b[38;5;21;01m.\u001b[39;00m\u001b[38;5;21;01mpyplot\u001b[39;00m \u001b[38;5;28;01mas\u001b[39;00m \u001b[38;5;21;01mplt\u001b[39;00m\n\u001b[1;32m---> 10\u001b[0m \u001b[38;5;28;01mimport\u001b[39;00m \u001b[38;5;21;01mtorch_directml\u001b[39;00m\n",
            "File \u001b[1;32mc:\\Users\\ivain\\AppData\\Local\\Programs\\Python\\Python311\\Lib\\site-packages\\torch_directml\\__init__.py:21\u001b[0m\n\u001b[0;32m     18\u001b[0m torch\u001b[38;5;241m.\u001b[39mops\u001b[38;5;241m.\u001b[39mload_library(directml_dll)\n\u001b[0;32m     20\u001b[0m \u001b[38;5;66;03m# import native apis\u001b[39;00m\n\u001b[1;32m---> 21\u001b[0m \u001b[38;5;28;01mimport\u001b[39;00m \u001b[38;5;21;01mtorch_directml_native\u001b[39;00m\n\u001b[0;32m     23\u001b[0m \u001b[38;5;28;01mfrom\u001b[39;00m \u001b[38;5;21;01m.\u001b[39;00m\u001b[38;5;21;01mdevice\u001b[39;00m \u001b[38;5;28;01mimport\u001b[39;00m \u001b[38;5;241m*\u001b[39m\n\u001b[0;32m     24\u001b[0m \u001b[38;5;28;01mfrom\u001b[39;00m \u001b[38;5;21;01m.\u001b[39;00m\u001b[38;5;21;01mfunctions\u001b[39;00m \u001b[38;5;28;01mimport\u001b[39;00m \u001b[38;5;241m*\u001b[39m\n",
            "\u001b[1;31mImportError\u001b[0m: DLL load failed while importing torch_directml_native: La procédure spécifiée est introuvable."
          ]
        }
      ],
      "source": [
        "# import the libraries\n",
        "import torch, pdb\n",
        "from torch.utils.data import DataLoader\n",
        "from torch import nn\n",
        "from torchvision import transforms\n",
        "from torchvision.datasets import MNIST\n",
        "from torchvision.utils import make_grid\n",
        "from tqdm.auto import tqdm\n",
        "import matplotlib.pyplot as plt\n",
        "import torch_directml"
      ]
    },
    {
      "cell_type": "markdown",
      "metadata": {
        "id": "jziRN9i4vpOZ"
      },
      "source": [
        "## Setup"
      ]
    },
    {
      "cell_type": "code",
      "execution_count": 17,
      "metadata": {
        "id": "JXre4xVa8cQI"
      },
      "outputs": [],
      "source": [
        "# visualization function\n",
        "def show(tensor, ch=1, size=(28,28), num=16):\n",
        "  # tensor: 128 x 784 (Batch size = 128, 28*28 = 784)\n",
        "  data=tensor.detach().cpu().view(-1,ch,*size) # 128 x 784 --> 128 x 1 x 28 x 28\n",
        "  # matplotlib has a different order (Width ,Height ,Channels) than pytorch for images\n",
        "  grid = make_grid(data[:num], nrow=4).permute(1,2,0)   # 1 x 28 x 28  = 28 x 28 x 1\n",
        "  plt.imshow(grid)\n",
        "  plt.show()\n"
      ]
    },
    {
      "cell_type": "code",
      "execution_count": 18,
      "metadata": {
        "colab": {
          "base_uri": "https://localhost:8080/"
        },
        "id": "jbH0CPD7-MnX",
        "outputId": "2218ac94-b527-4cb4-8878-e4de5e538374"
      },
      "outputs": [],
      "source": [
        "# setup of the main parameters and hyperparameters\n",
        "epochs = 200\n",
        "cur_step = 0\n",
        "# every how many steps we want to show information on the screen\n",
        "info_step = 300\n",
        "mean_gen_loss = 0\n",
        "mean_disc_loss = 0\n",
        "\n",
        "#dimensionality of noise vector that is the input of the generator\n",
        "z_dim = 64\n",
        "# learning rate\n",
        "lr = 0.00001\n",
        "# Binary Cross Entropy with Logits (transfoms the output wiht a sigmoid from 0 to 1)\n",
        "loss_func = nn.BCEWithLogitsLoss()\n",
        "\n",
        "# batch size\n",
        "bs = 128\n",
        "device = 'cuda'\n",
        "\n",
        "# 1. where to store the data (.), 2. download the data = True 3. tranform according to the Tensor structure\n",
        "# 4. shuffle: at every epoch we shuffle the data, 5. batch size\n",
        "dataloader = DataLoader(MNIST('.', download=True, transform=transforms.ToTensor()),shuffle=True, batch_size=bs)\n",
        "\n",
        "# every epoch is going to have number of steps:\n",
        "# number of steps = 60000 / 128 = 468.75"
      ]
    },
    {
      "cell_type": "markdown",
      "metadata": {
        "id": "fYdmi5MwvUnx"
      },
      "source": [
        "## Declare the models\n",
        "#### Fill in the missing blanks"
      ]
    },
    {
      "cell_type": "code",
      "execution_count": 19,
      "metadata": {
        "id": "exkhTQ5pvs__"
      },
      "outputs": [],
      "source": [
        "# Generator\n",
        "def generatorBlock(input, output):\n",
        "  return nn.Sequential(\n",
        "    nn.Linear(input, output),\n",
        "    nn.BatchNorm1d(output),\n",
        "    nn.ReLU(),\n",
        "  )\n",
        "\n",
        "class Generator(nn.Module):\n",
        "  def __init__(self, z_dim=64, image_dim=784, h_dim=128): # z_dim: latent space dimensionality\n",
        "    super().__init__()\n",
        "    self.generator = nn.Sequential( # Fill in the rest by using the z_dim and the h_dim\n",
        "        generatorBlock(z_dim, h_dim), # 64 --> 128\n",
        "        generatorBlock(h_dim, h_dim*2), # 128 --> 256\n",
        "        generatorBlock(h_dim*2, h_dim*4), # 256 --> 512\n",
        "        generatorBlock(h_dim*4, h_dim*8), # 512 --> 1024\n",
        "        generatorBlock(h_dim*8, image_dim), # 1024 --> 784\n",
        "        nn.Sigmoid(), # to make the values between 0 and 1\n",
        "    )\n",
        "\n",
        "  def forward(self, noise):\n",
        "       return self.generator(noise)\n",
        "\n",
        "# function that generates noise\n",
        "def gen_noise(number, z_dim):\n",
        "  return torch.randn(number, z_dim).to(device)"
      ]
    },
    {
      "cell_type": "code",
      "execution_count": 20,
      "metadata": {
        "id": "HeJ7MsFSDn9o"
      },
      "outputs": [],
      "source": [
        "## Discriminator\n",
        "def discriminatorBlock(input, output):\n",
        "  return nn.Sequential(\n",
        "    nn.Linear(input, output),\n",
        "    nn.LeakyReLU(0.2),\n",
        "  )\n",
        "\n",
        "class Discriminator(nn.Module):\n",
        "  def __init__(self, image_dim=784, h_dim=256):\n",
        "    super().__init__()\n",
        "    self.discriminator=nn.Sequential( # Fill in the rest by using the image_dim and the h_dim\n",
        "        discriminatorBlock(image_dim, h_dim*4), # 784 --> 1024 \n",
        "        discriminatorBlock(h_dim*4, h_dim*2), # 1024 --> 512\n",
        "        discriminatorBlock(h_dim*2, h_dim), # 512 --> 256\n",
        "        nn.Linear(h_dim, 1) # output: 256 --> 1\n",
        "    )\n",
        "\n",
        "  def forward(self, image):\n",
        "      return self.discriminator(image)"
      ]
    },
    {
      "cell_type": "markdown",
      "metadata": {
        "id": "MNwv_Hls5VCR"
      },
      "source": [
        "## Main code"
      ]
    },
    {
      "cell_type": "code",
      "execution_count": 21,
      "metadata": {
        "id": "seszPPbBOc1r"
      },
      "outputs": [
        {
          "ename": "AssertionError",
          "evalue": "Torch not compiled with CUDA enabled",
          "output_type": "error",
          "traceback": [
            "\u001b[1;31m---------------------------------------------------------------------------\u001b[0m",
            "\u001b[1;31mAssertionError\u001b[0m                            Traceback (most recent call last)",
            "Cell \u001b[1;32mIn[21], line 1\u001b[0m\n\u001b[1;32m----> 1\u001b[0m gen \u001b[38;5;241m=\u001b[39m \u001b[43mGenerator\u001b[49m\u001b[43m(\u001b[49m\u001b[43mz_dim\u001b[49m\u001b[43m)\u001b[49m\u001b[38;5;241;43m.\u001b[39;49m\u001b[43mto\u001b[49m\u001b[43m(\u001b[49m\u001b[43mdevice\u001b[49m\u001b[43m)\u001b[49m\n\u001b[0;32m      2\u001b[0m \u001b[38;5;66;03m# optimizer of the generator\u001b[39;00m\n\u001b[0;32m      3\u001b[0m gen_opt \u001b[38;5;241m=\u001b[39m optim\u001b[38;5;241m.\u001b[39mAdam(gen\u001b[38;5;241m.\u001b[39mparameters(), lr\u001b[38;5;241m=\u001b[39mlr) \u001b[38;5;66;03m# Adam optimizer\u001b[39;00m\n",
            "File \u001b[1;32mc:\\Users\\ivain\\AppData\\Local\\Programs\\Python\\Python311\\Lib\\site-packages\\torch\\nn\\modules\\module.py:1340\u001b[0m, in \u001b[0;36mModule.to\u001b[1;34m(self, *args, **kwargs)\u001b[0m\n\u001b[0;32m   1337\u001b[0m         \u001b[38;5;28;01melse\u001b[39;00m:\n\u001b[0;32m   1338\u001b[0m             \u001b[38;5;28;01mraise\u001b[39;00m\n\u001b[1;32m-> 1340\u001b[0m \u001b[38;5;28;01mreturn\u001b[39;00m \u001b[38;5;28;43mself\u001b[39;49m\u001b[38;5;241;43m.\u001b[39;49m\u001b[43m_apply\u001b[49m\u001b[43m(\u001b[49m\u001b[43mconvert\u001b[49m\u001b[43m)\u001b[49m\n",
            "File \u001b[1;32mc:\\Users\\ivain\\AppData\\Local\\Programs\\Python\\Python311\\Lib\\site-packages\\torch\\nn\\modules\\module.py:900\u001b[0m, in \u001b[0;36mModule._apply\u001b[1;34m(self, fn, recurse)\u001b[0m\n\u001b[0;32m    898\u001b[0m \u001b[38;5;28;01mif\u001b[39;00m recurse:\n\u001b[0;32m    899\u001b[0m     \u001b[38;5;28;01mfor\u001b[39;00m module \u001b[38;5;129;01min\u001b[39;00m \u001b[38;5;28mself\u001b[39m\u001b[38;5;241m.\u001b[39mchildren():\n\u001b[1;32m--> 900\u001b[0m         \u001b[43mmodule\u001b[49m\u001b[38;5;241;43m.\u001b[39;49m\u001b[43m_apply\u001b[49m\u001b[43m(\u001b[49m\u001b[43mfn\u001b[49m\u001b[43m)\u001b[49m\n\u001b[0;32m    902\u001b[0m \u001b[38;5;28;01mdef\u001b[39;00m \u001b[38;5;21mcompute_should_use_set_data\u001b[39m(tensor, tensor_applied):\n\u001b[0;32m    903\u001b[0m     \u001b[38;5;28;01mif\u001b[39;00m torch\u001b[38;5;241m.\u001b[39m_has_compatible_shallow_copy_type(tensor, tensor_applied):\n\u001b[0;32m    904\u001b[0m         \u001b[38;5;66;03m# If the new tensor has compatible tensor type as the existing tensor,\u001b[39;00m\n\u001b[0;32m    905\u001b[0m         \u001b[38;5;66;03m# the current behavior is to change the tensor in-place using `.data =`,\u001b[39;00m\n\u001b[1;32m   (...)\u001b[0m\n\u001b[0;32m    910\u001b[0m         \u001b[38;5;66;03m# global flag to let the user control whether they want the future\u001b[39;00m\n\u001b[0;32m    911\u001b[0m         \u001b[38;5;66;03m# behavior of overwriting the existing tensor or not.\u001b[39;00m\n",
            "File \u001b[1;32mc:\\Users\\ivain\\AppData\\Local\\Programs\\Python\\Python311\\Lib\\site-packages\\torch\\nn\\modules\\module.py:900\u001b[0m, in \u001b[0;36mModule._apply\u001b[1;34m(self, fn, recurse)\u001b[0m\n\u001b[0;32m    898\u001b[0m \u001b[38;5;28;01mif\u001b[39;00m recurse:\n\u001b[0;32m    899\u001b[0m     \u001b[38;5;28;01mfor\u001b[39;00m module \u001b[38;5;129;01min\u001b[39;00m \u001b[38;5;28mself\u001b[39m\u001b[38;5;241m.\u001b[39mchildren():\n\u001b[1;32m--> 900\u001b[0m         \u001b[43mmodule\u001b[49m\u001b[38;5;241;43m.\u001b[39;49m\u001b[43m_apply\u001b[49m\u001b[43m(\u001b[49m\u001b[43mfn\u001b[49m\u001b[43m)\u001b[49m\n\u001b[0;32m    902\u001b[0m \u001b[38;5;28;01mdef\u001b[39;00m \u001b[38;5;21mcompute_should_use_set_data\u001b[39m(tensor, tensor_applied):\n\u001b[0;32m    903\u001b[0m     \u001b[38;5;28;01mif\u001b[39;00m torch\u001b[38;5;241m.\u001b[39m_has_compatible_shallow_copy_type(tensor, tensor_applied):\n\u001b[0;32m    904\u001b[0m         \u001b[38;5;66;03m# If the new tensor has compatible tensor type as the existing tensor,\u001b[39;00m\n\u001b[0;32m    905\u001b[0m         \u001b[38;5;66;03m# the current behavior is to change the tensor in-place using `.data =`,\u001b[39;00m\n\u001b[1;32m   (...)\u001b[0m\n\u001b[0;32m    910\u001b[0m         \u001b[38;5;66;03m# global flag to let the user control whether they want the future\u001b[39;00m\n\u001b[0;32m    911\u001b[0m         \u001b[38;5;66;03m# behavior of overwriting the existing tensor or not.\u001b[39;00m\n",
            "File \u001b[1;32mc:\\Users\\ivain\\AppData\\Local\\Programs\\Python\\Python311\\Lib\\site-packages\\torch\\nn\\modules\\module.py:900\u001b[0m, in \u001b[0;36mModule._apply\u001b[1;34m(self, fn, recurse)\u001b[0m\n\u001b[0;32m    898\u001b[0m \u001b[38;5;28;01mif\u001b[39;00m recurse:\n\u001b[0;32m    899\u001b[0m     \u001b[38;5;28;01mfor\u001b[39;00m module \u001b[38;5;129;01min\u001b[39;00m \u001b[38;5;28mself\u001b[39m\u001b[38;5;241m.\u001b[39mchildren():\n\u001b[1;32m--> 900\u001b[0m         \u001b[43mmodule\u001b[49m\u001b[38;5;241;43m.\u001b[39;49m\u001b[43m_apply\u001b[49m\u001b[43m(\u001b[49m\u001b[43mfn\u001b[49m\u001b[43m)\u001b[49m\n\u001b[0;32m    902\u001b[0m \u001b[38;5;28;01mdef\u001b[39;00m \u001b[38;5;21mcompute_should_use_set_data\u001b[39m(tensor, tensor_applied):\n\u001b[0;32m    903\u001b[0m     \u001b[38;5;28;01mif\u001b[39;00m torch\u001b[38;5;241m.\u001b[39m_has_compatible_shallow_copy_type(tensor, tensor_applied):\n\u001b[0;32m    904\u001b[0m         \u001b[38;5;66;03m# If the new tensor has compatible tensor type as the existing tensor,\u001b[39;00m\n\u001b[0;32m    905\u001b[0m         \u001b[38;5;66;03m# the current behavior is to change the tensor in-place using `.data =`,\u001b[39;00m\n\u001b[1;32m   (...)\u001b[0m\n\u001b[0;32m    910\u001b[0m         \u001b[38;5;66;03m# global flag to let the user control whether they want the future\u001b[39;00m\n\u001b[0;32m    911\u001b[0m         \u001b[38;5;66;03m# behavior of overwriting the existing tensor or not.\u001b[39;00m\n",
            "File \u001b[1;32mc:\\Users\\ivain\\AppData\\Local\\Programs\\Python\\Python311\\Lib\\site-packages\\torch\\nn\\modules\\module.py:927\u001b[0m, in \u001b[0;36mModule._apply\u001b[1;34m(self, fn, recurse)\u001b[0m\n\u001b[0;32m    923\u001b[0m \u001b[38;5;66;03m# Tensors stored in modules are graph leaves, and we don't want to\u001b[39;00m\n\u001b[0;32m    924\u001b[0m \u001b[38;5;66;03m# track autograd history of `param_applied`, so we have to use\u001b[39;00m\n\u001b[0;32m    925\u001b[0m \u001b[38;5;66;03m# `with torch.no_grad():`\u001b[39;00m\n\u001b[0;32m    926\u001b[0m \u001b[38;5;28;01mwith\u001b[39;00m torch\u001b[38;5;241m.\u001b[39mno_grad():\n\u001b[1;32m--> 927\u001b[0m     param_applied \u001b[38;5;241m=\u001b[39m \u001b[43mfn\u001b[49m\u001b[43m(\u001b[49m\u001b[43mparam\u001b[49m\u001b[43m)\u001b[49m\n\u001b[0;32m    928\u001b[0m p_should_use_set_data \u001b[38;5;241m=\u001b[39m compute_should_use_set_data(param, param_applied)\n\u001b[0;32m    930\u001b[0m \u001b[38;5;66;03m# subclasses may have multiple child tensors so we need to use swap_tensors\u001b[39;00m\n",
            "File \u001b[1;32mc:\\Users\\ivain\\AppData\\Local\\Programs\\Python\\Python311\\Lib\\site-packages\\torch\\nn\\modules\\module.py:1326\u001b[0m, in \u001b[0;36mModule.to.<locals>.convert\u001b[1;34m(t)\u001b[0m\n\u001b[0;32m   1319\u001b[0m     \u001b[38;5;28;01mif\u001b[39;00m convert_to_format \u001b[38;5;129;01mis\u001b[39;00m \u001b[38;5;129;01mnot\u001b[39;00m \u001b[38;5;28;01mNone\u001b[39;00m \u001b[38;5;129;01mand\u001b[39;00m t\u001b[38;5;241m.\u001b[39mdim() \u001b[38;5;129;01min\u001b[39;00m (\u001b[38;5;241m4\u001b[39m, \u001b[38;5;241m5\u001b[39m):\n\u001b[0;32m   1320\u001b[0m         \u001b[38;5;28;01mreturn\u001b[39;00m t\u001b[38;5;241m.\u001b[39mto(\n\u001b[0;32m   1321\u001b[0m             device,\n\u001b[0;32m   1322\u001b[0m             dtype \u001b[38;5;28;01mif\u001b[39;00m t\u001b[38;5;241m.\u001b[39mis_floating_point() \u001b[38;5;129;01mor\u001b[39;00m t\u001b[38;5;241m.\u001b[39mis_complex() \u001b[38;5;28;01melse\u001b[39;00m \u001b[38;5;28;01mNone\u001b[39;00m,\n\u001b[0;32m   1323\u001b[0m             non_blocking,\n\u001b[0;32m   1324\u001b[0m             memory_format\u001b[38;5;241m=\u001b[39mconvert_to_format,\n\u001b[0;32m   1325\u001b[0m         )\n\u001b[1;32m-> 1326\u001b[0m     \u001b[38;5;28;01mreturn\u001b[39;00m \u001b[43mt\u001b[49m\u001b[38;5;241;43m.\u001b[39;49m\u001b[43mto\u001b[49m\u001b[43m(\u001b[49m\n\u001b[0;32m   1327\u001b[0m \u001b[43m        \u001b[49m\u001b[43mdevice\u001b[49m\u001b[43m,\u001b[49m\n\u001b[0;32m   1328\u001b[0m \u001b[43m        \u001b[49m\u001b[43mdtype\u001b[49m\u001b[43m \u001b[49m\u001b[38;5;28;43;01mif\u001b[39;49;00m\u001b[43m \u001b[49m\u001b[43mt\u001b[49m\u001b[38;5;241;43m.\u001b[39;49m\u001b[43mis_floating_point\u001b[49m\u001b[43m(\u001b[49m\u001b[43m)\u001b[49m\u001b[43m \u001b[49m\u001b[38;5;129;43;01mor\u001b[39;49;00m\u001b[43m \u001b[49m\u001b[43mt\u001b[49m\u001b[38;5;241;43m.\u001b[39;49m\u001b[43mis_complex\u001b[49m\u001b[43m(\u001b[49m\u001b[43m)\u001b[49m\u001b[43m \u001b[49m\u001b[38;5;28;43;01melse\u001b[39;49;00m\u001b[43m \u001b[49m\u001b[38;5;28;43;01mNone\u001b[39;49;00m\u001b[43m,\u001b[49m\n\u001b[0;32m   1329\u001b[0m \u001b[43m        \u001b[49m\u001b[43mnon_blocking\u001b[49m\u001b[43m,\u001b[49m\n\u001b[0;32m   1330\u001b[0m \u001b[43m    \u001b[49m\u001b[43m)\u001b[49m\n\u001b[0;32m   1331\u001b[0m \u001b[38;5;28;01mexcept\u001b[39;00m \u001b[38;5;167;01mNotImplementedError\u001b[39;00m \u001b[38;5;28;01mas\u001b[39;00m e:\n\u001b[0;32m   1332\u001b[0m     \u001b[38;5;28;01mif\u001b[39;00m \u001b[38;5;28mstr\u001b[39m(e) \u001b[38;5;241m==\u001b[39m \u001b[38;5;124m\"\u001b[39m\u001b[38;5;124mCannot copy out of meta tensor; no data!\u001b[39m\u001b[38;5;124m\"\u001b[39m:\n",
            "File \u001b[1;32mc:\\Users\\ivain\\AppData\\Local\\Programs\\Python\\Python311\\Lib\\site-packages\\torch\\cuda\\__init__.py:310\u001b[0m, in \u001b[0;36m_lazy_init\u001b[1;34m()\u001b[0m\n\u001b[0;32m    305\u001b[0m     \u001b[38;5;28;01mraise\u001b[39;00m \u001b[38;5;167;01mRuntimeError\u001b[39;00m(\n\u001b[0;32m    306\u001b[0m         \u001b[38;5;124m\"\u001b[39m\u001b[38;5;124mCannot re-initialize CUDA in forked subprocess. To use CUDA with \u001b[39m\u001b[38;5;124m\"\u001b[39m\n\u001b[0;32m    307\u001b[0m         \u001b[38;5;124m\"\u001b[39m\u001b[38;5;124mmultiprocessing, you must use the \u001b[39m\u001b[38;5;124m'\u001b[39m\u001b[38;5;124mspawn\u001b[39m\u001b[38;5;124m'\u001b[39m\u001b[38;5;124m start method\u001b[39m\u001b[38;5;124m\"\u001b[39m\n\u001b[0;32m    308\u001b[0m     )\n\u001b[0;32m    309\u001b[0m \u001b[38;5;28;01mif\u001b[39;00m \u001b[38;5;129;01mnot\u001b[39;00m \u001b[38;5;28mhasattr\u001b[39m(torch\u001b[38;5;241m.\u001b[39m_C, \u001b[38;5;124m\"\u001b[39m\u001b[38;5;124m_cuda_getDeviceCount\u001b[39m\u001b[38;5;124m\"\u001b[39m):\n\u001b[1;32m--> 310\u001b[0m     \u001b[38;5;28;01mraise\u001b[39;00m \u001b[38;5;167;01mAssertionError\u001b[39;00m(\u001b[38;5;124m\"\u001b[39m\u001b[38;5;124mTorch not compiled with CUDA enabled\u001b[39m\u001b[38;5;124m\"\u001b[39m)\n\u001b[0;32m    311\u001b[0m \u001b[38;5;28;01mif\u001b[39;00m _cudart \u001b[38;5;129;01mis\u001b[39;00m \u001b[38;5;28;01mNone\u001b[39;00m:\n\u001b[0;32m    312\u001b[0m     \u001b[38;5;28;01mraise\u001b[39;00m \u001b[38;5;167;01mAssertionError\u001b[39;00m(\n\u001b[0;32m    313\u001b[0m         \u001b[38;5;124m\"\u001b[39m\u001b[38;5;124mlibcudart functions unavailable. It looks like you have a broken build?\u001b[39m\u001b[38;5;124m\"\u001b[39m\n\u001b[0;32m    314\u001b[0m     )\n",
            "\u001b[1;31mAssertionError\u001b[0m: Torch not compiled with CUDA enabled"
          ]
        }
      ],
      "source": [
        "gen = Generator(z_dim).to(device)\n",
        "# optimizer of the generator\n",
        "gen_opt = optim.Adam(gen.parameters(), lr=lr) # Adam optimizer\n",
        "disc = Discriminator().to(device)\n",
        "# optimizer of the discriminator\n",
        "disc_opt = optim.Adam(disc.parameters(), lr=lr) # Adam optimizer"
      ]
    },
    {
      "cell_type": "code",
      "execution_count": 8,
      "metadata": {
        "colab": {
          "base_uri": "https://localhost:8080/"
        },
        "id": "S_9mS9dPPpNa",
        "outputId": "04cd2652-64bc-433f-b09e-5f79bcebbc8f"
      },
      "outputs": [
        {
          "ename": "NameError",
          "evalue": "name 'gen' is not defined",
          "output_type": "error",
          "traceback": [
            "\u001b[1;31m---------------------------------------------------------------------------\u001b[0m",
            "\u001b[1;31mNameError\u001b[0m                                 Traceback (most recent call last)",
            "Cell \u001b[1;32mIn[8], line 2\u001b[0m\n\u001b[0;32m      1\u001b[0m \u001b[38;5;66;03m# check your generator\u001b[39;00m\n\u001b[1;32m----> 2\u001b[0m \u001b[43mgen\u001b[49m\n",
            "\u001b[1;31mNameError\u001b[0m: name 'gen' is not defined"
          ]
        }
      ],
      "source": [
        "# check your generator\n",
        "gen"
      ]
    },
    {
      "cell_type": "code",
      "execution_count": 9,
      "metadata": {
        "colab": {
          "base_uri": "https://localhost:8080/"
        },
        "id": "Dpl4G5NEPrJQ",
        "outputId": "8f98b016-d2b6-419a-982c-22cec9afa9ec"
      },
      "outputs": [
        {
          "ename": "NameError",
          "evalue": "name 'disc' is not defined",
          "output_type": "error",
          "traceback": [
            "\u001b[1;31m---------------------------------------------------------------------------\u001b[0m",
            "\u001b[1;31mNameError\u001b[0m                                 Traceback (most recent call last)",
            "Cell \u001b[1;32mIn[9], line 2\u001b[0m\n\u001b[0;32m      1\u001b[0m \u001b[38;5;66;03m# check your discriminator\u001b[39;00m\n\u001b[1;32m----> 2\u001b[0m \u001b[43mdisc\u001b[49m\n",
            "\u001b[1;31mNameError\u001b[0m: name 'disc' is not defined"
          ]
        }
      ],
      "source": [
        "# check your discriminator\n",
        "disc"
      ]
    },
    {
      "cell_type": "code",
      "execution_count": null,
      "metadata": {
        "colab": {
          "base_uri": "https://localhost:8080/"
        },
        "id": "0LMJkT1f57pE",
        "outputId": "a14896cb-6346-43b6-ee82-13a475b76437"
      },
      "outputs": [
        {
          "name": "stdout",
          "output_type": "stream",
          "text": [
            "torch.Size([128, 1, 28, 28]) torch.Size([128])\n",
            "tensor([1, 3, 2, 9, 7, 0, 2, 6, 2, 6])\n"
          ]
        }
      ],
      "source": [
        "x,y=next(iter(dataloader))\n",
        "print(x.shape, y.shape)\n",
        "print(y[:10])"
      ]
    },
    {
      "cell_type": "code",
      "execution_count": null,
      "metadata": {
        "colab": {
          "base_uri": "https://localhost:8080/",
          "height": 434
        },
        "id": "UGjXIihPReLx",
        "outputId": "ea788aa0-2d98-436a-d375-1455e63eab44"
      },
      "outputs": [
        {
          "data": {
            "image/png": "[encoded data removed]",
            "text/plain": [
              "<Figure size 640x480 with 1 Axes>"
            ]
          },
          "metadata": {},
          "output_type": "display_data"
        }
      ],
      "source": [
        "noise = gen_noise(bs, z_dim)\n",
        "fake = gen(noise)\n",
        "show(fake)\n",
        "\n",
        "# Here we see the initial output of passing the noise through the generator\n",
        "# Since the generator did not start learning, it produces a very noisy output"
      ]
    },
    {
      "cell_type": "markdown",
      "metadata": {
        "id": "5e0PSVDj6Q9G"
      },
      "source": [
        "## Compute the loss"
      ]
    },
    {
      "cell_type": "code",
      "execution_count": null,
      "metadata": {
        "id": "MsZzz3irTSh_"
      },
      "outputs": [],
      "source": [
        "# generator loss\n",
        "def calc_gen_loss(loss_func, gen, disc, number, z_dim): # number is the number of elemenent we want to process, i.e. batch size\n",
        "   noise = gen_noise(number, z_dim)\n",
        "   fake = gen(noise)\n",
        "   pred = disc(fake)\n",
        "   targets=torch.ones_like(pred) # 1: real, 0: fake\n",
        "   gen_loss=loss_func(pred,targets)\n",
        "\n",
        "   return gen_loss\n",
        "\n",
        "\n",
        "def calc_disc_loss(loss_func, gen, disc, number, real, z_dim):\n",
        "   # number is the number of elemenent we want to process, i.e. batch size\n",
        "   # real is the number of real images\n",
        "   noise = gen_noise(number, z_dim)\n",
        "   fake = gen(noise)\n",
        "   disc_fake = disc(fake.detach()) # need to detach so that we do not change the generator\n",
        "   disc_fake_targets=torch.zeros_like(disc_fake) # 1: real, 0: fake\n",
        "   disc_fake_loss=loss_func(disc_fake, disc_fake_targets)\n",
        "\n",
        "   disc_real = disc(real)\n",
        "   disc_real_targets=torch.ones_like(disc_real)\n",
        "   disc_real_loss=loss_func(disc_real, disc_real_targets)\n",
        "\n",
        "   disc_loss=(disc_fake_loss+disc_real_loss)/2\n",
        "\n",
        "   return disc_loss\n",
        "\n",
        "\n"
      ]
    },
    {
      "cell_type": "markdown",
      "metadata": {
        "id": "VtVhFT_urT53"
      },
      "source": [
        "\n",
        "**GANs are known for their training instability and difficulty in achieving convergence. Discuss the potential causes of these issues**"
      ]
    },
    {
      "cell_type": "markdown",
      "metadata": {
        "id": "aTJkJcnP7ao9"
      },
      "source": [
        "## Training loop"
      ]
    },
    {
      "cell_type": "code",
      "execution_count": null,
      "metadata": {
        "id": "LPcL8U6BXMZv"
      },
      "outputs": [],
      "source": [
        "### batch size = 128\n",
        "### 60000 / 128 = 468.75  = 469 steps in each epoch\n",
        "### Each step is going to process 128 images = size of the batch (except the last step)\n",
        "\n",
        "for epoch in range(epochs):\n",
        "  for real, _ in tqdm(dataloader):\n",
        "    ### discriminator\n",
        "    TODO, # set the gradients to zero\n",
        "\n",
        "\n",
        "    current_batch_size=len(real) # real: 128 x 1 x 28 x 28\n",
        "    real = real.view(current_batch_size, -1) # 128 x 784\n",
        "    real = real.to(device)\n",
        "\n",
        "    disc_loss = calc_disc_loss(loss_func,gen,disc,current_batch_size,real,z_dim)\n",
        "    TODO, # Backpropagation\n",
        "    TODO, # Optimizer step\n",
        "\n",
        "    ### generator\n",
        "    TODO, # set the gradients to zero\n",
        "    gen_loss = calc_gen_loss(loss_func,gen,disc,current_batch_size,z_dim)\n",
        "    TODO, # Backpropagation\n",
        "    TODO, # Optimizer step\n",
        "\n",
        "    ### statistics + visualization\n",
        "\n",
        "    # adding the values into the losses\n",
        "    mean_disc_loss+=disc_loss.item()/info_step # .item() transforms the tensor value into a standalone value\n",
        "    mean_gen_loss+=gen_loss.item()/info_step\n",
        "\n",
        "    if cur_step % info_step == 0 and cur_step>0:\n",
        "      fake_noise = gen_noise(current_batch_size, z_dim)\n",
        "      fake = gen(fake_noise)\n",
        "      show(fake)\n",
        "      show(real)\n",
        "      print(f\"{epoch}: step {cur_step} / Gen loss: {mean_gen_loss} / disc_loss: {mean_disc_loss}\")\n",
        "      mean_gen_loss, mean_disc_loss=0,0\n",
        "    cur_step+=1\n"
      ]
    },
    {
      "cell_type": "markdown",
      "metadata": {
        "id": "_Zy3mAZutQfk"
      },
      "source": [
        "**In the quantitative assessment of GANs, especially for complex image datasets, which metrics are suitable for evaluating the quality and diversity of the generated images?**"
      ]
    }
  ],
  "metadata": {
    "accelerator": "GPU",
    "colab": {
      "gpuType": "T4",
      "provenance": []
    },
    "kernelspec": {
      "display_name": "Python 3",
      "name": "python3"
    },
    "language_info": {
      "codemirror_mode": {
        "name": "ipython",
        "version": 3
      },
      "file_extension": ".py",
      "mimetype": "text/x-python",
      "name": "python",
      "nbconvert_exporter": "python",
      "pygments_lexer": "ipython3",
      "version": "3.11.9"
    }
  },
  "nbformat": 4,
  "nbformat_minor": 0
}
